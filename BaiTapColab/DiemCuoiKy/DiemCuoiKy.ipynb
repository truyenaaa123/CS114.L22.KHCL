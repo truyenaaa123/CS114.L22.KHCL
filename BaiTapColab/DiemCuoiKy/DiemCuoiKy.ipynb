{
  "nbformat": 4,
  "nbformat_minor": 0,
  "metadata": {
    "colab": {
      "name": "DiemCuoiKy.ipynb",
      "provenance": [],
      "collapsed_sections": [
        "Emg2CiqiAoeA"
      ],
      "include_colab_link": true
    },
    "kernelspec": {
      "name": "python3",
      "display_name": "Python 3"
    },
    "language_info": {
      "name": "python"
    }
  },
  "cells": [
    {
      "cell_type": "markdown",
      "metadata": {
        "id": "view-in-github",
        "colab_type": "text"
      },
      "source": [
        "<a href=\"https://colab.research.google.com/github/truyenaaa123/CS114.L22.KHCL/blob/main/BaiTapColab/DiemCuoiKy/DiemCuoiKy.ipynb\" target=\"_parent\"><img src=\"https://colab.research.google.com/assets/colab-badge.svg\" alt=\"Open In Colab\"/></a>"
      ]
    },
    {
      "cell_type": "markdown",
      "metadata": {
        "id": "rIo2GNhYWZOP"
      },
      "source": [
        "# Set up\n"
      ]
    },
    {
      "cell_type": "code",
      "metadata": {
        "id": "T45t4vO3q6QA"
      },
      "source": [
        "import pandas as pd\n",
        "import matplotlib.pyplot as plt\n",
        "import numpy as np\n",
        "from sklearn import datasets, linear_model\n",
        "from sklearn.metrics import mean_squared_error, r2_score\n"
      ],
      "execution_count": 1,
      "outputs": []
    },
    {
      "cell_type": "markdown",
      "metadata": {
        "id": "Ho5VFOqLwzZi"
      },
      "source": [
        "Lấy dữ liệu"
      ]
    },
    {
      "cell_type": "code",
      "metadata": {
        "id": "cJXBK4nf3kHY"
      },
      "source": [
        "#Load dữ liệu của file wecode.csv và file score_training lần lượt là:\n",
        "df1 = pd.read_csv('https://raw.githubusercontent.com/truyenaaa123/CS114.L22.KHCL/main/BaiTapColab/DiemCuoiKy/wecode%20(1).csv')\n",
        "df2 = pd.read_csv('https://raw.githubusercontent.com/truyenaaa123/CS114.L22.KHCL/main/BaiTapColab/DiemCuoiKy/score_training%20(1).csv')"
      ],
      "execution_count": 2,
      "outputs": []
    },
    {
      "cell_type": "markdown",
      "metadata": {
        "id": "hEiY8d_D0BuB"
      },
      "source": [
        "Xóa dữ liệu không ảnh hưởng đến điểm cuối kỳ "
      ]
    },
    {
      "cell_type": "code",
      "metadata": {
        "id": "q1jlNTNiR29i"
      },
      "source": [
        "df1 = df1.drop(columns= ['file_name', 'language_id', 'id', 'updated_at', 'status'])"
      ],
      "execution_count": 3,
      "outputs": []
    },
    {
      "cell_type": "code",
      "metadata": {
        "id": "6LcsoZ1Da3lE"
      },
      "source": [
        "list_score=df2\n",
        "df2 = df2.drop(columns= ['QT', 'GK', 'TH', 'TBM','TBTL']).rename(columns = {'id': 'user_id'}, inplace =False)"
      ],
      "execution_count": 4,
      "outputs": []
    },
    {
      "cell_type": "code",
      "metadata": {
        "colab": {
          "base_uri": "https://localhost:8080/"
        },
        "id": "_N1NsZ9feGsb",
        "outputId": "d50c6fb1-143d-4c7f-8a34-b70b66fa2b2f"
      },
      "source": [
        "df1.info()"
      ],
      "execution_count": 5,
      "outputs": [
        {
          "output_type": "stream",
          "text": [
            "<class 'pandas.core.frame.DataFrame'>\n",
            "RangeIndex: 264606 entries, 0 to 264605\n",
            "Data columns (total 7 columns):\n",
            " #   Column         Non-Null Count   Dtype \n",
            "---  ------         --------------   ----- \n",
            " 0   assignment_id  264606 non-null  int64 \n",
            " 1   problem_id     264606 non-null  int64 \n",
            " 2   user_id        264606 non-null  int64 \n",
            " 3   is_final       264606 non-null  int64 \n",
            " 4   pre_score      264606 non-null  int64 \n",
            " 5   coefficient    264606 non-null  object\n",
            " 6   created_at     264606 non-null  object\n",
            "dtypes: int64(5), object(2)\n",
            "memory usage: 14.1+ MB\n"
          ],
          "name": "stdout"
        }
      ]
    },
    {
      "cell_type": "code",
      "metadata": {
        "id": "2kVtbRO6hVDi"
      },
      "source": [
        "# Thay đổi từ Object sang Numberic\n",
        "df2['CK'] = df2['CK'].apply(pd.to_numeric, errors='coerce')\n",
        "df1['coefficient']=df1['coefficient'].apply(pd.to_numeric,errors='coerce')"
      ],
      "execution_count": 6,
      "outputs": []
    },
    {
      "cell_type": "markdown",
      "metadata": {
        "id": "GqD5WHdzbxVL"
      },
      "source": [
        "Merge 2 dữ liệu lại"
      ]
    },
    {
      "cell_type": "code",
      "metadata": {
        "id": "pM161Mjzb1Ib",
        "colab": {
          "base_uri": "https://localhost:8080/",
          "height": 420
        },
        "outputId": "00d6c2f3-9f58-4eee-f3aa-f8e2a9751df3"
      },
      "source": [
        "df3 = pd.merge(df1,df2,on='user_id')\n",
        "df3['created_at'] = pd.DatetimeIndex(df3['created_at']).astype(np.int64) // 10**9\n",
        "df3"
      ],
      "execution_count": 314,
      "outputs": [
        {
          "output_type": "execute_result",
          "data": {
            "text/html": [
              "<div>\n",
              "<style scoped>\n",
              "    .dataframe tbody tr th:only-of-type {\n",
              "        vertical-align: middle;\n",
              "    }\n",
              "\n",
              "    .dataframe tbody tr th {\n",
              "        vertical-align: top;\n",
              "    }\n",
              "\n",
              "    .dataframe thead th {\n",
              "        text-align: right;\n",
              "    }\n",
              "</style>\n",
              "<table border=\"1\" class=\"dataframe\">\n",
              "  <thead>\n",
              "    <tr style=\"text-align: right;\">\n",
              "      <th></th>\n",
              "      <th>assignment_id</th>\n",
              "      <th>problem_id</th>\n",
              "      <th>user_id</th>\n",
              "      <th>is_final</th>\n",
              "      <th>pre_score</th>\n",
              "      <th>coefficient</th>\n",
              "      <th>created_at</th>\n",
              "      <th>CK</th>\n",
              "    </tr>\n",
              "  </thead>\n",
              "  <tbody>\n",
              "    <tr>\n",
              "      <th>0</th>\n",
              "      <td>7</td>\n",
              "      <td>10</td>\n",
              "      <td>1439</td>\n",
              "      <td>0</td>\n",
              "      <td>0</td>\n",
              "      <td>100.0</td>\n",
              "      <td>1604290471</td>\n",
              "      <td>8.5</td>\n",
              "    </tr>\n",
              "    <tr>\n",
              "      <th>1</th>\n",
              "      <td>7</td>\n",
              "      <td>10</td>\n",
              "      <td>1439</td>\n",
              "      <td>0</td>\n",
              "      <td>0</td>\n",
              "      <td>100.0</td>\n",
              "      <td>1604290599</td>\n",
              "      <td>8.5</td>\n",
              "    </tr>\n",
              "    <tr>\n",
              "      <th>2</th>\n",
              "      <td>7</td>\n",
              "      <td>1</td>\n",
              "      <td>1439</td>\n",
              "      <td>0</td>\n",
              "      <td>0</td>\n",
              "      <td>100.0</td>\n",
              "      <td>1604290748</td>\n",
              "      <td>8.5</td>\n",
              "    </tr>\n",
              "    <tr>\n",
              "      <th>3</th>\n",
              "      <td>7</td>\n",
              "      <td>10</td>\n",
              "      <td>1439</td>\n",
              "      <td>0</td>\n",
              "      <td>0</td>\n",
              "      <td>100.0</td>\n",
              "      <td>1604290859</td>\n",
              "      <td>8.5</td>\n",
              "    </tr>\n",
              "    <tr>\n",
              "      <th>4</th>\n",
              "      <td>7</td>\n",
              "      <td>10</td>\n",
              "      <td>1439</td>\n",
              "      <td>0</td>\n",
              "      <td>0</td>\n",
              "      <td>100.0</td>\n",
              "      <td>1604291505</td>\n",
              "      <td>8.5</td>\n",
              "    </tr>\n",
              "    <tr>\n",
              "      <th>...</th>\n",
              "      <td>...</td>\n",
              "      <td>...</td>\n",
              "      <td>...</td>\n",
              "      <td>...</td>\n",
              "      <td>...</td>\n",
              "      <td>...</td>\n",
              "      <td>...</td>\n",
              "      <td>...</td>\n",
              "    </tr>\n",
              "    <tr>\n",
              "      <th>207583</th>\n",
              "      <td>383</td>\n",
              "      <td>313</td>\n",
              "      <td>1452</td>\n",
              "      <td>1</td>\n",
              "      <td>10000</td>\n",
              "      <td>100.0</td>\n",
              "      <td>1616257667</td>\n",
              "      <td>6.0</td>\n",
              "    </tr>\n",
              "    <tr>\n",
              "      <th>207584</th>\n",
              "      <td>383</td>\n",
              "      <td>318</td>\n",
              "      <td>1452</td>\n",
              "      <td>1</td>\n",
              "      <td>10000</td>\n",
              "      <td>100.0</td>\n",
              "      <td>1616257699</td>\n",
              "      <td>6.0</td>\n",
              "    </tr>\n",
              "    <tr>\n",
              "      <th>207585</th>\n",
              "      <td>383</td>\n",
              "      <td>319</td>\n",
              "      <td>1452</td>\n",
              "      <td>1</td>\n",
              "      <td>10000</td>\n",
              "      <td>100.0</td>\n",
              "      <td>1616257726</td>\n",
              "      <td>6.0</td>\n",
              "    </tr>\n",
              "    <tr>\n",
              "      <th>207586</th>\n",
              "      <td>383</td>\n",
              "      <td>317</td>\n",
              "      <td>1452</td>\n",
              "      <td>1</td>\n",
              "      <td>10000</td>\n",
              "      <td>100.0</td>\n",
              "      <td>1616257740</td>\n",
              "      <td>6.0</td>\n",
              "    </tr>\n",
              "    <tr>\n",
              "      <th>207587</th>\n",
              "      <td>383</td>\n",
              "      <td>316</td>\n",
              "      <td>1452</td>\n",
              "      <td>1</td>\n",
              "      <td>10000</td>\n",
              "      <td>100.0</td>\n",
              "      <td>1616257781</td>\n",
              "      <td>6.0</td>\n",
              "    </tr>\n",
              "  </tbody>\n",
              "</table>\n",
              "<p>207588 rows × 8 columns</p>\n",
              "</div>"
            ],
            "text/plain": [
              "        assignment_id  problem_id  user_id  ...  coefficient  created_at   CK\n",
              "0                   7          10     1439  ...        100.0  1604290471  8.5\n",
              "1                   7          10     1439  ...        100.0  1604290599  8.5\n",
              "2                   7           1     1439  ...        100.0  1604290748  8.5\n",
              "3                   7          10     1439  ...        100.0  1604290859  8.5\n",
              "4                   7          10     1439  ...        100.0  1604291505  8.5\n",
              "...               ...         ...      ...  ...          ...         ...  ...\n",
              "207583            383         313     1452  ...        100.0  1616257667  6.0\n",
              "207584            383         318     1452  ...        100.0  1616257699  6.0\n",
              "207585            383         319     1452  ...        100.0  1616257726  6.0\n",
              "207586            383         317     1452  ...        100.0  1616257740  6.0\n",
              "207587            383         316     1452  ...        100.0  1616257781  6.0\n",
              "\n",
              "[207588 rows x 8 columns]"
            ]
          },
          "metadata": {
            "tags": []
          },
          "execution_count": 314
        }
      ]
    },
    {
      "cell_type": "markdown",
      "metadata": {
        "id": "fIO8EKvQWzKK"
      },
      "source": [
        "# Thông tin dữ liệu"
      ]
    },
    {
      "cell_type": "markdown",
      "metadata": {
        "id": "3_VGRp9uW20J"
      },
      "source": [
        "Số sinh viên có kết quả tham gia thực hành là: 1159 (trong file wecode.csv)\n"
      ]
    },
    {
      "cell_type": "code",
      "metadata": {
        "colab": {
          "base_uri": "https://localhost:8080/"
        },
        "id": "dt7b0M0GWJiR",
        "outputId": "82372308-117d-4290-e79a-5f9707b0e494"
      },
      "source": [
        "df1.user_id.value_counts().count()"
      ],
      "execution_count": null,
      "outputs": [
        {
          "output_type": "execute_result",
          "data": {
            "text/plain": [
              "1159"
            ]
          },
          "metadata": {
            "tags": []
          },
          "execution_count": 182
        }
      ]
    },
    {
      "cell_type": "markdown",
      "metadata": {
        "id": "S3q9YNvBYdB5"
      },
      "source": [
        "Số sinh viên có kết quả môn học là: 975 (trong file score_training.csv)"
      ]
    },
    {
      "cell_type": "code",
      "metadata": {
        "colab": {
          "base_uri": "https://localhost:8080/"
        },
        "id": "MZI0svw6XQqx",
        "outputId": "7eb7caea-d80a-4ce6-a6b9-6ad424383ecb"
      },
      "source": [
        "df2['user_id'].value_counts().count()"
      ],
      "execution_count": null,
      "outputs": [
        {
          "output_type": "execute_result",
          "data": {
            "text/plain": [
              "975"
            ]
          },
          "metadata": {
            "tags": []
          },
          "execution_count": 183
        }
      ]
    },
    {
      "cell_type": "markdown",
      "metadata": {
        "id": "6TezbVmRdKk9"
      },
      "source": [
        "số lần **submit** của mỗi sv"
      ]
    },
    {
      "cell_type": "code",
      "metadata": {
        "id": "nWyD9LhDdbMO",
        "colab": {
          "base_uri": "https://localhost:8080/",
          "height": 421
        },
        "outputId": "9854a80c-449f-444b-84cd-efbd4abfe9d5"
      },
      "source": [
        "nb_submit_user= df3.value_counts('user_id').reset_index(name='number_submit')\n",
        "# thêm cột number_submit\n",
        "dt_wecode=pd.merge(df3,nb_submit_user,on='user_id',how='inner')\n",
        "nb_submit_user\n"
      ],
      "execution_count": null,
      "outputs": [
        {
          "output_type": "execute_result",
          "data": {
            "text/html": [
              "<div>\n",
              "<style scoped>\n",
              "    .dataframe tbody tr th:only-of-type {\n",
              "        vertical-align: middle;\n",
              "    }\n",
              "\n",
              "    .dataframe tbody tr th {\n",
              "        vertical-align: top;\n",
              "    }\n",
              "\n",
              "    .dataframe thead th {\n",
              "        text-align: right;\n",
              "    }\n",
              "</style>\n",
              "<table border=\"1\" class=\"dataframe\">\n",
              "  <thead>\n",
              "    <tr style=\"text-align: right;\">\n",
              "      <th></th>\n",
              "      <th>user_id</th>\n",
              "      <th>number_submit</th>\n",
              "    </tr>\n",
              "  </thead>\n",
              "  <tbody>\n",
              "    <tr>\n",
              "      <th>0</th>\n",
              "      <td>317</td>\n",
              "      <td>1359</td>\n",
              "    </tr>\n",
              "    <tr>\n",
              "      <th>1</th>\n",
              "      <td>1487</td>\n",
              "      <td>974</td>\n",
              "    </tr>\n",
              "    <tr>\n",
              "      <th>2</th>\n",
              "      <td>1191</td>\n",
              "      <td>813</td>\n",
              "    </tr>\n",
              "    <tr>\n",
              "      <th>3</th>\n",
              "      <td>695</td>\n",
              "      <td>800</td>\n",
              "    </tr>\n",
              "    <tr>\n",
              "      <th>4</th>\n",
              "      <td>1460</td>\n",
              "      <td>757</td>\n",
              "    </tr>\n",
              "    <tr>\n",
              "      <th>...</th>\n",
              "      <td>...</td>\n",
              "      <td>...</td>\n",
              "    </tr>\n",
              "    <tr>\n",
              "      <th>848</th>\n",
              "      <td>1122</td>\n",
              "      <td>3</td>\n",
              "    </tr>\n",
              "    <tr>\n",
              "      <th>849</th>\n",
              "      <td>934</td>\n",
              "      <td>2</td>\n",
              "    </tr>\n",
              "    <tr>\n",
              "      <th>850</th>\n",
              "      <td>1757</td>\n",
              "      <td>2</td>\n",
              "    </tr>\n",
              "    <tr>\n",
              "      <th>851</th>\n",
              "      <td>685</td>\n",
              "      <td>1</td>\n",
              "    </tr>\n",
              "    <tr>\n",
              "      <th>852</th>\n",
              "      <td>1699</td>\n",
              "      <td>1</td>\n",
              "    </tr>\n",
              "  </tbody>\n",
              "</table>\n",
              "<p>853 rows × 2 columns</p>\n",
              "</div>"
            ],
            "text/plain": [
              "     user_id  number_submit\n",
              "0        317           1359\n",
              "1       1487            974\n",
              "2       1191            813\n",
              "3        695            800\n",
              "4       1460            757\n",
              "..       ...            ...\n",
              "848     1122              3\n",
              "849      934              2\n",
              "850     1757              2\n",
              "851      685              1\n",
              "852     1699              1\n",
              "\n",
              "[853 rows x 2 columns]"
            ]
          },
          "metadata": {
            "tags": []
          },
          "execution_count": 184
        }
      ]
    },
    {
      "cell_type": "markdown",
      "metadata": {
        "id": "hf5a65rcl8GK"
      },
      "source": [
        "dữ liệu pre_score = 10000 và is_final = 1"
      ]
    },
    {
      "cell_type": "code",
      "metadata": {
        "colab": {
          "base_uri": "https://localhost:8080/",
          "height": 421
        },
        "id": "mK-YoY8snfHy",
        "outputId": "028040ef-a382-438c-9756-7c23942e94d7"
      },
      "source": [
        "dt_wecode"
      ],
      "execution_count": null,
      "outputs": [
        {
          "output_type": "execute_result",
          "data": {
            "text/html": [
              "<div>\n",
              "<style scoped>\n",
              "    .dataframe tbody tr th:only-of-type {\n",
              "        vertical-align: middle;\n",
              "    }\n",
              "\n",
              "    .dataframe tbody tr th {\n",
              "        vertical-align: top;\n",
              "    }\n",
              "\n",
              "    .dataframe thead th {\n",
              "        text-align: right;\n",
              "    }\n",
              "</style>\n",
              "<table border=\"1\" class=\"dataframe\">\n",
              "  <thead>\n",
              "    <tr style=\"text-align: right;\">\n",
              "      <th></th>\n",
              "      <th>assignment_id</th>\n",
              "      <th>problem_id</th>\n",
              "      <th>user_id</th>\n",
              "      <th>is_final</th>\n",
              "      <th>pre_score</th>\n",
              "      <th>coefficient</th>\n",
              "      <th>created_at</th>\n",
              "      <th>CK</th>\n",
              "      <th>number_submit</th>\n",
              "    </tr>\n",
              "  </thead>\n",
              "  <tbody>\n",
              "    <tr>\n",
              "      <th>0</th>\n",
              "      <td>7</td>\n",
              "      <td>10</td>\n",
              "      <td>1439</td>\n",
              "      <td>0</td>\n",
              "      <td>0</td>\n",
              "      <td>100.0</td>\n",
              "      <td>1604290471</td>\n",
              "      <td>8.5</td>\n",
              "      <td>268</td>\n",
              "    </tr>\n",
              "    <tr>\n",
              "      <th>1</th>\n",
              "      <td>7</td>\n",
              "      <td>10</td>\n",
              "      <td>1439</td>\n",
              "      <td>0</td>\n",
              "      <td>0</td>\n",
              "      <td>100.0</td>\n",
              "      <td>1604290599</td>\n",
              "      <td>8.5</td>\n",
              "      <td>268</td>\n",
              "    </tr>\n",
              "    <tr>\n",
              "      <th>2</th>\n",
              "      <td>7</td>\n",
              "      <td>1</td>\n",
              "      <td>1439</td>\n",
              "      <td>0</td>\n",
              "      <td>0</td>\n",
              "      <td>100.0</td>\n",
              "      <td>1604290748</td>\n",
              "      <td>8.5</td>\n",
              "      <td>268</td>\n",
              "    </tr>\n",
              "    <tr>\n",
              "      <th>3</th>\n",
              "      <td>7</td>\n",
              "      <td>10</td>\n",
              "      <td>1439</td>\n",
              "      <td>0</td>\n",
              "      <td>0</td>\n",
              "      <td>100.0</td>\n",
              "      <td>1604290859</td>\n",
              "      <td>8.5</td>\n",
              "      <td>268</td>\n",
              "    </tr>\n",
              "    <tr>\n",
              "      <th>4</th>\n",
              "      <td>7</td>\n",
              "      <td>10</td>\n",
              "      <td>1439</td>\n",
              "      <td>0</td>\n",
              "      <td>0</td>\n",
              "      <td>100.0</td>\n",
              "      <td>1604291505</td>\n",
              "      <td>8.5</td>\n",
              "      <td>268</td>\n",
              "    </tr>\n",
              "    <tr>\n",
              "      <th>...</th>\n",
              "      <td>...</td>\n",
              "      <td>...</td>\n",
              "      <td>...</td>\n",
              "      <td>...</td>\n",
              "      <td>...</td>\n",
              "      <td>...</td>\n",
              "      <td>...</td>\n",
              "      <td>...</td>\n",
              "      <td>...</td>\n",
              "    </tr>\n",
              "    <tr>\n",
              "      <th>207583</th>\n",
              "      <td>383</td>\n",
              "      <td>313</td>\n",
              "      <td>1452</td>\n",
              "      <td>1</td>\n",
              "      <td>10000</td>\n",
              "      <td>100.0</td>\n",
              "      <td>1616257667</td>\n",
              "      <td>6.0</td>\n",
              "      <td>63</td>\n",
              "    </tr>\n",
              "    <tr>\n",
              "      <th>207584</th>\n",
              "      <td>383</td>\n",
              "      <td>318</td>\n",
              "      <td>1452</td>\n",
              "      <td>1</td>\n",
              "      <td>10000</td>\n",
              "      <td>100.0</td>\n",
              "      <td>1616257699</td>\n",
              "      <td>6.0</td>\n",
              "      <td>63</td>\n",
              "    </tr>\n",
              "    <tr>\n",
              "      <th>207585</th>\n",
              "      <td>383</td>\n",
              "      <td>319</td>\n",
              "      <td>1452</td>\n",
              "      <td>1</td>\n",
              "      <td>10000</td>\n",
              "      <td>100.0</td>\n",
              "      <td>1616257726</td>\n",
              "      <td>6.0</td>\n",
              "      <td>63</td>\n",
              "    </tr>\n",
              "    <tr>\n",
              "      <th>207586</th>\n",
              "      <td>383</td>\n",
              "      <td>317</td>\n",
              "      <td>1452</td>\n",
              "      <td>1</td>\n",
              "      <td>10000</td>\n",
              "      <td>100.0</td>\n",
              "      <td>1616257740</td>\n",
              "      <td>6.0</td>\n",
              "      <td>63</td>\n",
              "    </tr>\n",
              "    <tr>\n",
              "      <th>207587</th>\n",
              "      <td>383</td>\n",
              "      <td>316</td>\n",
              "      <td>1452</td>\n",
              "      <td>1</td>\n",
              "      <td>10000</td>\n",
              "      <td>100.0</td>\n",
              "      <td>1616257781</td>\n",
              "      <td>6.0</td>\n",
              "      <td>63</td>\n",
              "    </tr>\n",
              "  </tbody>\n",
              "</table>\n",
              "<p>207588 rows × 9 columns</p>\n",
              "</div>"
            ],
            "text/plain": [
              "        assignment_id  problem_id  user_id  ...  created_at   CK  number_submit\n",
              "0                   7          10     1439  ...  1604290471  8.5            268\n",
              "1                   7          10     1439  ...  1604290599  8.5            268\n",
              "2                   7           1     1439  ...  1604290748  8.5            268\n",
              "3                   7          10     1439  ...  1604290859  8.5            268\n",
              "4                   7          10     1439  ...  1604291505  8.5            268\n",
              "...               ...         ...      ...  ...         ...  ...            ...\n",
              "207583            383         313     1452  ...  1616257667  6.0             63\n",
              "207584            383         318     1452  ...  1616257699  6.0             63\n",
              "207585            383         319     1452  ...  1616257726  6.0             63\n",
              "207586            383         317     1452  ...  1616257740  6.0             63\n",
              "207587            383         316     1452  ...  1616257781  6.0             63\n",
              "\n",
              "[207588 rows x 9 columns]"
            ]
          },
          "metadata": {
            "tags": []
          },
          "execution_count": 185
        }
      ]
    },
    {
      "cell_type": "code",
      "metadata": {
        "colab": {
          "base_uri": "https://localhost:8080/"
        },
        "id": "VAJJuXQwl-c3",
        "outputId": "91f21119-e6c0-4902-85ca-69a4711bb0dc"
      },
      "source": [
        "\n",
        "#số bài nộp đạt pre_score == 10000 & df3.is_final==1\n",
        "temp1=df3.filter(items=['pre_score', 'is_final', 'CK', 'user_id']).loc[(df3.pre_score == 10000) & (df3.is_final==1)]\n",
        "n1=len(temp1)\n",
        "#số problem trong hệ thống\n",
        "n2=len(df1.groupby('problem_id'))\n",
        "\n",
        "\n",
        "print('numbers problem :',n2)\n",
        "print('numbers successful submission',n1)"
      ],
      "execution_count": null,
      "outputs": [
        {
          "output_type": "stream",
          "text": [
            "numbers problem : 634\n",
            "numbers successful submission 74834\n"
          ],
          "name": "stdout"
        }
      ]
    },
    {
      "cell_type": "markdown",
      "metadata": {
        "id": "dXY3sRR9Wmk1"
      },
      "source": [
        "# Scatter\n"
      ]
    },
    {
      "cell_type": "markdown",
      "metadata": {
        "id": "BoS2X8JSXgwe"
      },
      "source": [
        "**number of submissions** and **Final Score**"
      ]
    },
    {
      "cell_type": "code",
      "metadata": {
        "id": "dAQdF5vug5db",
        "colab": {
          "base_uri": "https://localhost:8080/",
          "height": 295
        },
        "outputId": "a5341131-379e-4d31-8159-597b08bcc83f"
      },
      "source": [
        "data1=df3.drop(columns= ['assignment_id', 'problem_id', 'is_final', 'pre_score', 'coefficient','created_at'])\n",
        "data1.dropna()\n",
        "temp1=data1.groupby('user_id').count()# so lan submit\n",
        "temp1=pd.DataFrame(data=temp1)\n",
        "temp1=np.array(temp1)\n",
        "temp2=df3.drop_duplicates(subset='user_id')\n",
        "temp2=np.array(temp2['CK'])# diem CK\n",
        "plt.scatter(y =temp2, x =temp1)\n",
        "plt.title(\"number of submissions and Final Score\")\n",
        "plt.xlabel('number of submissions')\n",
        "plt.ylabel('Final Score') \n",
        "plt.show()"
      ],
      "execution_count": null,
      "outputs": [
        {
          "output_type": "display_data",
          "data": {
            "image/png": "[encoded data removed]",
            "text/plain": [
              "<Figure size 432x288 with 1 Axes>"
            ]
          },
          "metadata": {
            "tags": [],
            "needs_background": "light"
          }
        }
      ]
    },
    {
      "cell_type": "markdown",
      "metadata": {
        "id": "e_L_xlGRroEh"
      },
      "source": [
        "**Tb hệ số nộp trễ của mỗi SV** và **điểm CK**"
      ]
    },
    {
      "cell_type": "code",
      "metadata": {
        "colab": {
          "base_uri": "https://localhost:8080/",
          "height": 541
        },
        "id": "52w9BjYwr4bY",
        "outputId": "a91ef783-690b-459a-f8ea-9f26f75419ca"
      },
      "source": [
        "#temp3 = file_wecode2[file_wecode2['is_final'] == 1][['user_id', 'pre_score']] # Tổng pre_score is_final = 1\n",
        "temp = df3.groupby('user_id').sum()['coefficient']\n",
        "temp=temp.reset_index(name='sum')\n",
        "# merger vs dt_wecode\n",
        "dt_wecode=pd.merge(dt_wecode,temp,on='user_id',how='inner')\n",
        "dt_wecode['avg of cfc']=dt_wecode['sum']/dt_wecode['number_submit']\n",
        "dt_wecode=dt_wecode.drop(columns={'sum'})\n",
        "\n",
        "\n",
        "dt_test1=dt_wecode.drop_duplicates(subset='user_id').sort_values(by=['user_id'])\n",
        "print(dt_wecode)\n",
        "#xem mối liên hệ\n",
        "plt.scatter(y=dt_test1['CK'], x =dt_test1['avg of cfc'])\n",
        "plt.title(\" avg of cfc and Final Score\")\n",
        "plt.xlabel('avg of cf')\n",
        "plt.ylabel('Final Score') \n",
        "plt.show()\n"
      ],
      "execution_count": null,
      "outputs": [
        {
          "output_type": "stream",
          "text": [
            "        assignment_id  problem_id  ...  sum_pre_score  avg of cfc\n",
            "0                   7          10  ...        1263325       100.0\n",
            "1                   7          10  ...        1263325       100.0\n",
            "2                   7           1  ...        1263325       100.0\n",
            "3                   7          10  ...        1263325       100.0\n",
            "4                   7          10  ...        1263325       100.0\n",
            "...               ...         ...  ...            ...         ...\n",
            "207583            383         313  ...         460000       100.0\n",
            "207584            383         318  ...         460000       100.0\n",
            "207585            383         319  ...         460000       100.0\n",
            "207586            383         317  ...         460000       100.0\n",
            "207587            383         316  ...         460000       100.0\n",
            "\n",
            "[207588 rows x 11 columns]\n"
          ],
          "name": "stdout"
        },
        {
          "output_type": "display_data",
          "data": {
            "image/png": "[encoded data removed]",
            "text/plain": [
              "<Figure size 432x288 with 1 Axes>"
            ]
          },
          "metadata": {
            "tags": [],
            "needs_background": "light"
          }
        }
      ]
    },
    {
      "cell_type": "markdown",
      "metadata": {
        "id": "gOeVRLHQNr00"
      },
      "source": [
        "**Thời gian trung bình nộp problem của từng id/ thời gian trung bình của tất cả mọi người**"
      ]
    },
    {
      "cell_type": "code",
      "metadata": {
        "id": "qG5DPHirDmoZ"
      },
      "source": [
        "train = df3.loc[df3.CK == df3.CK]\n",
        "train = train.drop_duplicates(subset=['user_id', 'assignment_id', 'problem_id', 'created_at'] )\n",
        "# thời gian hoàn thành từng problem của tất cả user\n",
        "temx = train[['user_id', 'assignment_id', 'problem_id', 'created_at']]\n",
        "temx = temx.groupby(by= ['user_id', 'assignment_id', 'problem_id']).agg({'created_at': lambda x: x.max()- x.min()}).reset_index()\n",
        "tem2 = temx.groupby(by= ['assignment_id', 'problem_id']).agg({'user_id': 'count','created_at': 'mean'}).reset_index()\n",
        "tem2 = tem2.rename(columns= {'user_id': 'count_id', 'created_at': 'ave_time'})\n",
        "tem2.loc[tem2.ave_time <= 0, 'ave_time'] = 1 # tính ra thởi gian trung bình của từng problen trong assignment\n",
        "tem4 = pd.merge(tem2, temx, on= ['assignment_id', 'problem_id']).sort_values(by= 'user_id')\n",
        "tem4['mean_time_user'] = tem4['created_at']/tem4['ave_time']\n",
        "tem4 # Cột mean_time_user là tỉ lệ giữa thời gian user_id đó làm được problem đó so với thời gian trung bình của toàn bộ mọi người\n",
        "id_mean = tem4.groupby(by= 'user_id').mean().reset_index()[['user_id', 'mean_time_user']]\n",
        "id_mean\n",
        "kq_time = pd.merge(train, id_mean, on='user_id')[['user_id', 'CK', 'mean_time_user']].drop_duplicates(subset='user_id')"
      ],
      "execution_count": 303,
      "outputs": []
    },
    {
      "cell_type": "code",
      "metadata": {
        "colab": {
          "base_uri": "https://localhost:8080/",
          "height": 296
        },
        "id": "qwzQc-zKuxLV",
        "outputId": "2eb2d348-2375-417e-cdcf-b8a149458fc9"
      },
      "source": [
        "plt.scatter(kq_time.mean_time_user, kq_time.CK);\n",
        "plt.xlabel('ave of time problem')\n",
        "plt.ylabel('Final Score')"
      ],
      "execution_count": 312,
      "outputs": [
        {
          "output_type": "execute_result",
          "data": {
            "text/plain": [
              "Text(0, 0.5, 'Final Score')"
            ]
          },
          "metadata": {
            "tags": []
          },
          "execution_count": 312
        },
        {
          "output_type": "display_data",
          "data": {
            "image/png": "[encoded data removed]",
            "text/plain": [
              "<Figure size 432x288 with 1 Axes>"
            ]
          },
          "metadata": {
            "tags": [],
            "needs_background": "light"
          }
        }
      ]
    },
    {
      "cell_type": "markdown",
      "metadata": {
        "id": "H2OUVStgE5Ze"
      },
      "source": [
        "**tổng time bài đã giải  / tổng problem đã giải**"
      ]
    },
    {
      "cell_type": "code",
      "metadata": {
        "id": "sMQMe530E4m2"
      },
      "source": [
        "temx = train[['user_id', 'assignment_id', 'problem_id', 'created_at', 'pre_score']]\n",
        "temx = temx.loc[temx.pre_score == 10000]\n",
        "temx = temx.groupby(by= ['user_id', 'assignment_id', 'problem_id']).count().reset_index()\n",
        "temx = temx[['user_id', 'assignment_id', 'problem_id']]\n",
        "temx = pd.merge(temx , train, on= ['user_id', 'assignment_id', 'problem_id'],)\n",
        "temx = temx.groupby(by= ['user_id', 'assignment_id', 'problem_id']).agg({'created_at': lambda x: x.max()- x.min()}).reset_index()\n",
        "tem2 = temx.groupby(by= ['assignment_id', 'problem_id']).agg({'user_id': 'count','created_at': 'mean'}).reset_index()\n",
        "temx = temx.groupby(by= ['user_id']).agg({'created_at': lambda x: x.max()- x.min(),\n",
        "                                          'assignment_id': 'count',\n",
        "                                          'problem_id': 'count'}).reset_index()\n",
        "temx['time/ass'] = temx['created_at']/temx['assignment_id']\n",
        "temx = temx.drop(columns= ['assignment_id', 'problem_id', 'created_at'])\n",
        "kq_timeass = pd.merge(temx, train, on='user_id')\n",
        "kq_timeass = kq_timeass.drop_duplicates(subset= 'user_id')[['CK', 'time/ass']]\n"
      ],
      "execution_count": null,
      "outputs": []
    },
    {
      "cell_type": "code",
      "metadata": {
        "colab": {
          "base_uri": "https://localhost:8080/",
          "height": 296
        },
        "id": "YQZQrfZJPPfM",
        "outputId": "58078970-06a7-44b4-9689-79b8fcf0bb94"
      },
      "source": [
        "#plt.xlim([0, 5000])\n",
        "plt.scatter( kq_timeass['time/ass'], kq_timeass['CK']);\n",
        "plt.xlabel('time/problem')\n",
        "plt.ylabel('Final Score') "
      ],
      "execution_count": 313,
      "outputs": [
        {
          "output_type": "execute_result",
          "data": {
            "text/plain": [
              "Text(0, 0.5, 'Final Score')"
            ]
          },
          "metadata": {
            "tags": []
          },
          "execution_count": 313
        },
        {
          "output_type": "display_data",
          "data": {
            "image/png": "[encoded data removed]",
            "text/plain": [
              "<Figure size 432x288 with 1 Axes>"
            ]
          },
          "metadata": {
            "tags": [],
            "needs_background": "light"
          }
        }
      ]
    },
    {
      "cell_type": "markdown",
      "metadata": {
        "id": "Emg2CiqiAoeA"
      },
      "source": [
        "\n",
        "\n",
        "```\n",
        "```\n",
        "#Tạo Model dự đoán điểm CK còn thiếu"
      ]
    },
    {
      "cell_type": "code",
      "metadata": {
        "colab": {
          "base_uri": "https://localhost:8080/"
        },
        "id": "Q6ZvHtaCAzfT",
        "outputId": "420c7f64-6f64-4347-d259-fefef8bc643a"
      },
      "source": [
        "#tạo data train\n",
        "dt_train=dt_wecode.dropna(axis=0).drop_duplicates(subset='user_id')\n",
        "x_train=np.array(dt_train.filter(items=['avg of cfc','number_submit','sum_pre_score']))\n",
        "y_train=np.array(dt_train['CK'])\n",
        "print(dt_train.filter(items=['avg of cfc','number_submit','sum_pre_score']))"
      ],
      "execution_count": null,
      "outputs": [
        {
          "output_type": "stream",
          "text": [
            "        avg of cfc  number_submit  sum_pre_score\n",
            "0            100.0            268        1263325\n",
            "268          100.0            216        1452635\n",
            "484          100.0            420        2137056\n",
            "904          100.0            239        1552462\n",
            "1143         100.0            247        1263788\n",
            "...            ...            ...            ...\n",
            "207421       100.0             18          20000\n",
            "207439       100.0             57         425000\n",
            "207496       100.0             15          75000\n",
            "207511       100.0             14          58000\n",
            "207525       100.0             63         460000\n",
            "\n",
            "[806 rows x 3 columns]\n"
          ],
          "name": "stdout"
        }
      ]
    },
    {
      "cell_type": "code",
      "metadata": {
        "id": "pSSEEozSA3oT"
      },
      "source": [
        "#lấy ra data có điểm CK còn trống\n",
        "temp=dt_wecode.drop_duplicates(subset='user_id')\n",
        "is_NaN = temp.isnull()\n",
        "rows_with_NaN = temp[is_NaN['CK']]# những sv có điểm CK == NaN\n",
        "dt_test=rows_with_NaN.drop(columns=['assignment_id'\t, 'problem_id', 'is_final', 'pre_score','coefficient','created_at'])\n",
        "x_test=np.array(dt_test.filter(items=['avg of cfc', 'number_submit','sum_pre_score']))"
      ],
      "execution_count": null,
      "outputs": []
    },
    {
      "cell_type": "code",
      "metadata": {
        "colab": {
          "base_uri": "https://localhost:8080/",
          "height": 1000
        },
        "id": "9MdQCC6uFt6s",
        "outputId": "da480356-f01d-42c2-d68a-5ecba2dd3947"
      },
      "source": [
        "#train model\n",
        "from sklearn.metrics import mean_squared_error\n",
        "from sklearn.linear_model import LinearRegression\n",
        "model = LinearRegression().fit(x_train, y_train)\n",
        "y_predict = model.predict(x_train)\n",
        "\n",
        "#làm tròn điểm CK dự đoán đc\n",
        "y_predict = y_predict*2.0\n",
        "y_predict = y_predict.astype(int)\n",
        "y_predict = np.round_(y_predict/2, decimals=1, out=None)\n",
        "\n",
        "# độ chính xác\n",
        "MSE=mean_squared_error(y_train,y_predict)\n",
        "print('MSE : ',MSE)\n",
        "#dùng model dự đoán điểm CK của các sv \n",
        "y_test1=model.predict(x_test)\n",
        "y_test1 = y_test1*2.0\n",
        "y_test1 = y_test1.astype(int)\n",
        "y_test1 = np.round_(y_test1/2, out=None)\n",
        "dt_test['CK']=y_test1\n",
        "dt_test\n",
        "\n",
        "\n"
      ],
      "execution_count": null,
      "outputs": [
        {
          "output_type": "stream",
          "text": [
            "MSE :  4.300558312655087\n"
          ],
          "name": "stdout"
        },
        {
          "output_type": "execute_result",
          "data": {
            "text/html": [
              "<div>\n",
              "<style scoped>\n",
              "    .dataframe tbody tr th:only-of-type {\n",
              "        vertical-align: middle;\n",
              "    }\n",
              "\n",
              "    .dataframe tbody tr th {\n",
              "        vertical-align: top;\n",
              "    }\n",
              "\n",
              "    .dataframe thead th {\n",
              "        text-align: right;\n",
              "    }\n",
              "</style>\n",
              "<table border=\"1\" class=\"dataframe\">\n",
              "  <thead>\n",
              "    <tr style=\"text-align: right;\">\n",
              "      <th></th>\n",
              "      <th>user_id</th>\n",
              "      <th>CK</th>\n",
              "      <th>number_submit</th>\n",
              "      <th>sum_pre_score</th>\n",
              "      <th>avg of cfc</th>\n",
              "    </tr>\n",
              "  </thead>\n",
              "  <tbody>\n",
              "    <tr>\n",
              "      <th>13064</th>\n",
              "      <td>1546</td>\n",
              "      <td>6.0</td>\n",
              "      <td>434</td>\n",
              "      <td>2173972</td>\n",
              "      <td>97.730415</td>\n",
              "    </tr>\n",
              "    <tr>\n",
              "      <th>13498</th>\n",
              "      <td>240</td>\n",
              "      <td>7.0</td>\n",
              "      <td>623</td>\n",
              "      <td>3066214</td>\n",
              "      <td>93.914928</td>\n",
              "    </tr>\n",
              "    <tr>\n",
              "      <th>14121</th>\n",
              "      <td>1367</td>\n",
              "      <td>6.0</td>\n",
              "      <td>266</td>\n",
              "      <td>1538435</td>\n",
              "      <td>94.635338</td>\n",
              "    </tr>\n",
              "    <tr>\n",
              "      <th>14387</th>\n",
              "      <td>1661</td>\n",
              "      <td>6.0</td>\n",
              "      <td>462</td>\n",
              "      <td>1997300</td>\n",
              "      <td>91.543290</td>\n",
              "    </tr>\n",
              "    <tr>\n",
              "      <th>19872</th>\n",
              "      <td>1408</td>\n",
              "      <td>6.0</td>\n",
              "      <td>249</td>\n",
              "      <td>1557928</td>\n",
              "      <td>98.682731</td>\n",
              "    </tr>\n",
              "    <tr>\n",
              "      <th>20121</th>\n",
              "      <td>391</td>\n",
              "      <td>6.0</td>\n",
              "      <td>379</td>\n",
              "      <td>2085960</td>\n",
              "      <td>94.168865</td>\n",
              "    </tr>\n",
              "    <tr>\n",
              "      <th>20500</th>\n",
              "      <td>1406</td>\n",
              "      <td>7.0</td>\n",
              "      <td>441</td>\n",
              "      <td>2415037</td>\n",
              "      <td>93.573696</td>\n",
              "    </tr>\n",
              "    <tr>\n",
              "      <th>20941</th>\n",
              "      <td>1458</td>\n",
              "      <td>6.0</td>\n",
              "      <td>358</td>\n",
              "      <td>1719842</td>\n",
              "      <td>96.608939</td>\n",
              "    </tr>\n",
              "    <tr>\n",
              "      <th>21299</th>\n",
              "      <td>1633</td>\n",
              "      <td>7.0</td>\n",
              "      <td>472</td>\n",
              "      <td>2544851</td>\n",
              "      <td>102.233051</td>\n",
              "    </tr>\n",
              "    <tr>\n",
              "      <th>21771</th>\n",
              "      <td>989</td>\n",
              "      <td>8.0</td>\n",
              "      <td>483</td>\n",
              "      <td>2730213</td>\n",
              "      <td>95.026915</td>\n",
              "    </tr>\n",
              "    <tr>\n",
              "      <th>22254</th>\n",
              "      <td>513</td>\n",
              "      <td>7.0</td>\n",
              "      <td>672</td>\n",
              "      <td>3222566</td>\n",
              "      <td>102.470238</td>\n",
              "    </tr>\n",
              "    <tr>\n",
              "      <th>22926</th>\n",
              "      <td>1399</td>\n",
              "      <td>6.0</td>\n",
              "      <td>574</td>\n",
              "      <td>2605496</td>\n",
              "      <td>92.383275</td>\n",
              "    </tr>\n",
              "    <tr>\n",
              "      <th>38677</th>\n",
              "      <td>51</td>\n",
              "      <td>5.0</td>\n",
              "      <td>86</td>\n",
              "      <td>446194</td>\n",
              "      <td>100.000000</td>\n",
              "    </tr>\n",
              "    <tr>\n",
              "      <th>39303</th>\n",
              "      <td>1325</td>\n",
              "      <td>6.0</td>\n",
              "      <td>380</td>\n",
              "      <td>1434920</td>\n",
              "      <td>98.360526</td>\n",
              "    </tr>\n",
              "    <tr>\n",
              "      <th>39683</th>\n",
              "      <td>705</td>\n",
              "      <td>6.0</td>\n",
              "      <td>328</td>\n",
              "      <td>1859632</td>\n",
              "      <td>103.417683</td>\n",
              "    </tr>\n",
              "    <tr>\n",
              "      <th>40011</th>\n",
              "      <td>586</td>\n",
              "      <td>7.0</td>\n",
              "      <td>296</td>\n",
              "      <td>2113473</td>\n",
              "      <td>103.462838</td>\n",
              "    </tr>\n",
              "    <tr>\n",
              "      <th>40307</th>\n",
              "      <td>1425</td>\n",
              "      <td>6.0</td>\n",
              "      <td>267</td>\n",
              "      <td>1864149</td>\n",
              "      <td>98.932584</td>\n",
              "    </tr>\n",
              "    <tr>\n",
              "      <th>58521</th>\n",
              "      <td>842</td>\n",
              "      <td>6.0</td>\n",
              "      <td>239</td>\n",
              "      <td>1505449</td>\n",
              "      <td>99.163180</td>\n",
              "    </tr>\n",
              "    <tr>\n",
              "      <th>58760</th>\n",
              "      <td>1217</td>\n",
              "      <td>6.0</td>\n",
              "      <td>350</td>\n",
              "      <td>1629776</td>\n",
              "      <td>100.000000</td>\n",
              "    </tr>\n",
              "    <tr>\n",
              "      <th>59401</th>\n",
              "      <td>876</td>\n",
              "      <td>5.0</td>\n",
              "      <td>128</td>\n",
              "      <td>654280</td>\n",
              "      <td>100.000000</td>\n",
              "    </tr>\n",
              "    <tr>\n",
              "      <th>59529</th>\n",
              "      <td>1319</td>\n",
              "      <td>6.0</td>\n",
              "      <td>241</td>\n",
              "      <td>1376826</td>\n",
              "      <td>99.170124</td>\n",
              "    </tr>\n",
              "    <tr>\n",
              "      <th>59770</th>\n",
              "      <td>1162</td>\n",
              "      <td>6.0</td>\n",
              "      <td>156</td>\n",
              "      <td>1039207</td>\n",
              "      <td>100.000000</td>\n",
              "    </tr>\n",
              "    <tr>\n",
              "      <th>59926</th>\n",
              "      <td>884</td>\n",
              "      <td>6.0</td>\n",
              "      <td>256</td>\n",
              "      <td>1522169</td>\n",
              "      <td>100.000000</td>\n",
              "    </tr>\n",
              "    <tr>\n",
              "      <th>60182</th>\n",
              "      <td>1064</td>\n",
              "      <td>6.0</td>\n",
              "      <td>246</td>\n",
              "      <td>1177422</td>\n",
              "      <td>100.000000</td>\n",
              "    </tr>\n",
              "    <tr>\n",
              "      <th>60428</th>\n",
              "      <td>1308</td>\n",
              "      <td>7.0</td>\n",
              "      <td>335</td>\n",
              "      <td>2118499</td>\n",
              "      <td>100.000000</td>\n",
              "    </tr>\n",
              "    <tr>\n",
              "      <th>60763</th>\n",
              "      <td>1340</td>\n",
              "      <td>7.0</td>\n",
              "      <td>297</td>\n",
              "      <td>2130143</td>\n",
              "      <td>100.000000</td>\n",
              "    </tr>\n",
              "    <tr>\n",
              "      <th>61060</th>\n",
              "      <td>1028</td>\n",
              "      <td>6.0</td>\n",
              "      <td>365</td>\n",
              "      <td>2064678</td>\n",
              "      <td>100.000000</td>\n",
              "    </tr>\n",
              "    <tr>\n",
              "      <th>61425</th>\n",
              "      <td>1172</td>\n",
              "      <td>6.0</td>\n",
              "      <td>264</td>\n",
              "      <td>1298215</td>\n",
              "      <td>100.000000</td>\n",
              "    </tr>\n",
              "    <tr>\n",
              "      <th>61689</th>\n",
              "      <td>792</td>\n",
              "      <td>8.0</td>\n",
              "      <td>422</td>\n",
              "      <td>2861806</td>\n",
              "      <td>100.000000</td>\n",
              "    </tr>\n",
              "    <tr>\n",
              "      <th>62111</th>\n",
              "      <td>958</td>\n",
              "      <td>6.0</td>\n",
              "      <td>345</td>\n",
              "      <td>1955626</td>\n",
              "      <td>99.710145</td>\n",
              "    </tr>\n",
              "    <tr>\n",
              "      <th>62456</th>\n",
              "      <td>776</td>\n",
              "      <td>6.0</td>\n",
              "      <td>264</td>\n",
              "      <td>1338650</td>\n",
              "      <td>100.000000</td>\n",
              "    </tr>\n",
              "    <tr>\n",
              "      <th>62720</th>\n",
              "      <td>811</td>\n",
              "      <td>6.0</td>\n",
              "      <td>181</td>\n",
              "      <td>1386667</td>\n",
              "      <td>100.000000</td>\n",
              "    </tr>\n",
              "    <tr>\n",
              "      <th>62901</th>\n",
              "      <td>818</td>\n",
              "      <td>6.0</td>\n",
              "      <td>237</td>\n",
              "      <td>1405749</td>\n",
              "      <td>98.312236</td>\n",
              "    </tr>\n",
              "    <tr>\n",
              "      <th>63138</th>\n",
              "      <td>1344</td>\n",
              "      <td>5.0</td>\n",
              "      <td>178</td>\n",
              "      <td>648886</td>\n",
              "      <td>98.314607</td>\n",
              "    </tr>\n",
              "    <tr>\n",
              "      <th>63316</th>\n",
              "      <td>1195</td>\n",
              "      <td>6.0</td>\n",
              "      <td>177</td>\n",
              "      <td>992798</td>\n",
              "      <td>95.480226</td>\n",
              "    </tr>\n",
              "    <tr>\n",
              "      <th>63493</th>\n",
              "      <td>774</td>\n",
              "      <td>6.0</td>\n",
              "      <td>197</td>\n",
              "      <td>1365874</td>\n",
              "      <td>100.000000</td>\n",
              "    </tr>\n",
              "    <tr>\n",
              "      <th>63690</th>\n",
              "      <td>772</td>\n",
              "      <td>6.0</td>\n",
              "      <td>292</td>\n",
              "      <td>1657940</td>\n",
              "      <td>100.000000</td>\n",
              "    </tr>\n",
              "    <tr>\n",
              "      <th>63982</th>\n",
              "      <td>1129</td>\n",
              "      <td>6.0</td>\n",
              "      <td>204</td>\n",
              "      <td>1380573</td>\n",
              "      <td>100.000000</td>\n",
              "    </tr>\n",
              "    <tr>\n",
              "      <th>64186</th>\n",
              "      <td>1368</td>\n",
              "      <td>7.0</td>\n",
              "      <td>328</td>\n",
              "      <td>2084972</td>\n",
              "      <td>100.000000</td>\n",
              "    </tr>\n",
              "    <tr>\n",
              "      <th>64514</th>\n",
              "      <td>911</td>\n",
              "      <td>7.0</td>\n",
              "      <td>457</td>\n",
              "      <td>2608086</td>\n",
              "      <td>100.000000</td>\n",
              "    </tr>\n",
              "    <tr>\n",
              "      <th>64971</th>\n",
              "      <td>1257</td>\n",
              "      <td>6.0</td>\n",
              "      <td>200</td>\n",
              "      <td>1254824</td>\n",
              "      <td>100.000000</td>\n",
              "    </tr>\n",
              "    <tr>\n",
              "      <th>65171</th>\n",
              "      <td>804</td>\n",
              "      <td>6.0</td>\n",
              "      <td>171</td>\n",
              "      <td>1347939</td>\n",
              "      <td>100.000000</td>\n",
              "    </tr>\n",
              "    <tr>\n",
              "      <th>65342</th>\n",
              "      <td>924</td>\n",
              "      <td>8.0</td>\n",
              "      <td>371</td>\n",
              "      <td>2578832</td>\n",
              "      <td>100.000000</td>\n",
              "    </tr>\n",
              "    <tr>\n",
              "      <th>65713</th>\n",
              "      <td>1026</td>\n",
              "      <td>6.0</td>\n",
              "      <td>359</td>\n",
              "      <td>1896154</td>\n",
              "      <td>100.000000</td>\n",
              "    </tr>\n",
              "    <tr>\n",
              "      <th>66072</th>\n",
              "      <td>1023</td>\n",
              "      <td>7.0</td>\n",
              "      <td>395</td>\n",
              "      <td>2529397</td>\n",
              "      <td>100.000000</td>\n",
              "    </tr>\n",
              "    <tr>\n",
              "      <th>66467</th>\n",
              "      <td>848</td>\n",
              "      <td>7.0</td>\n",
              "      <td>380</td>\n",
              "      <td>2449928</td>\n",
              "      <td>99.736842</td>\n",
              "    </tr>\n",
              "    <tr>\n",
              "      <th>67549</th>\n",
              "      <td>1048</td>\n",
              "      <td>6.0</td>\n",
              "      <td>182</td>\n",
              "      <td>1026982</td>\n",
              "      <td>100.000000</td>\n",
              "    </tr>\n",
              "  </tbody>\n",
              "</table>\n",
              "</div>"
            ],
            "text/plain": [
              "       user_id   CK  number_submit  sum_pre_score  avg of cfc\n",
              "13064     1546  6.0            434        2173972   97.730415\n",
              "13498      240  7.0            623        3066214   93.914928\n",
              "14121     1367  6.0            266        1538435   94.635338\n",
              "14387     1661  6.0            462        1997300   91.543290\n",
              "19872     1408  6.0            249        1557928   98.682731\n",
              "20121      391  6.0            379        2085960   94.168865\n",
              "20500     1406  7.0            441        2415037   93.573696\n",
              "20941     1458  6.0            358        1719842   96.608939\n",
              "21299     1633  7.0            472        2544851  102.233051\n",
              "21771      989  8.0            483        2730213   95.026915\n",
              "22254      513  7.0            672        3222566  102.470238\n",
              "22926     1399  6.0            574        2605496   92.383275\n",
              "38677       51  5.0             86         446194  100.000000\n",
              "39303     1325  6.0            380        1434920   98.360526\n",
              "39683      705  6.0            328        1859632  103.417683\n",
              "40011      586  7.0            296        2113473  103.462838\n",
              "40307     1425  6.0            267        1864149   98.932584\n",
              "58521      842  6.0            239        1505449   99.163180\n",
              "58760     1217  6.0            350        1629776  100.000000\n",
              "59401      876  5.0            128         654280  100.000000\n",
              "59529     1319  6.0            241        1376826   99.170124\n",
              "59770     1162  6.0            156        1039207  100.000000\n",
              "59926      884  6.0            256        1522169  100.000000\n",
              "60182     1064  6.0            246        1177422  100.000000\n",
              "60428     1308  7.0            335        2118499  100.000000\n",
              "60763     1340  7.0            297        2130143  100.000000\n",
              "61060     1028  6.0            365        2064678  100.000000\n",
              "61425     1172  6.0            264        1298215  100.000000\n",
              "61689      792  8.0            422        2861806  100.000000\n",
              "62111      958  6.0            345        1955626   99.710145\n",
              "62456      776  6.0            264        1338650  100.000000\n",
              "62720      811  6.0            181        1386667  100.000000\n",
              "62901      818  6.0            237        1405749   98.312236\n",
              "63138     1344  5.0            178         648886   98.314607\n",
              "63316     1195  6.0            177         992798   95.480226\n",
              "63493      774  6.0            197        1365874  100.000000\n",
              "63690      772  6.0            292        1657940  100.000000\n",
              "63982     1129  6.0            204        1380573  100.000000\n",
              "64186     1368  7.0            328        2084972  100.000000\n",
              "64514      911  7.0            457        2608086  100.000000\n",
              "64971     1257  6.0            200        1254824  100.000000\n",
              "65171      804  6.0            171        1347939  100.000000\n",
              "65342      924  8.0            371        2578832  100.000000\n",
              "65713     1026  6.0            359        1896154  100.000000\n",
              "66072     1023  7.0            395        2529397  100.000000\n",
              "66467      848  7.0            380        2449928   99.736842\n",
              "67549     1048  6.0            182        1026982  100.000000"
            ]
          },
          "metadata": {
            "tags": []
          },
          "execution_count": 209
        }
      ]
    },
    {
      "cell_type": "code",
      "metadata": {
        "id": "S__4Y0jEHuBY"
      },
      "source": [
        ""
      ],
      "execution_count": null,
      "outputs": []
    }
  ]
}