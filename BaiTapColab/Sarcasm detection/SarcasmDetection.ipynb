{
  "nbformat": 4,
  "nbformat_minor": 0,
  "metadata": {
    "colab": {
      "name": "SarcasmDetection.ipynb",
      "provenance": [],
      "collapsed_sections": [],
      "authorship_tag": "ABX9TyNYcvpUy5BdrpVvTPPSvbsc",
      "include_colab_link": true
    },
    "kernelspec": {
      "name": "python3",
      "display_name": "Python 3"
    },
    "language_info": {
      "name": "python"
    }
  },
  "cells": [
    {
      "cell_type": "markdown",
      "metadata": {
        "id": "view-in-github",
        "colab_type": "text"
      },
      "source": [
        "<a href=\"https://colab.research.google.com/github/truyenaaa123/CS114.L22.KHCL/blob/main/BaiTapColab/Sarcasm%20detection/SarcasmDetection.ipynb\" target=\"_parent\"><img src=\"https://colab.research.google.com/assets/colab-badge.svg\" alt=\"Open In Colab\"/></a>"
      ]
    },
    {
      "cell_type": "markdown",
      "metadata": {
        "id": "kG-vfDDuIXP7"
      },
      "source": [
        "# Thông tin dữ liệu"
      ]
    },
    {
      "cell_type": "code",
      "metadata": {
        "id": "A_7uyLszPCWl"
      },
      "source": [
        "import pandas as pd\n",
        "\n",
        "patients_df = pd.read_json('E:/datasets/patients.json')"
      ],
      "execution_count": null,
      "outputs": []
    },
    {
      "cell_type": "code",
      "metadata": {
        "id": "kEbOKZtMUoh_"
      },
      "source": [
        "print(1243)"
      ],
      "execution_count": null,
      "outputs": []
    },
    {
      "cell_type": "markdown",
      "metadata": {
        "id": "TNF0X8bQIakK"
      },
      "source": [
        "# Thử các Model\n"
      ]
    },
    {
      "cell_type": "markdown",
      "metadata": {
        "id": "C1UeLG-mIecC"
      },
      "source": [
        "# Kết quả"
      ]
    }
  ]
}